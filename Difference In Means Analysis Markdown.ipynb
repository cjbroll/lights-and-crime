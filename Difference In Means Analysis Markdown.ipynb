{
 "cells": [
  {
   "cell_type": "markdown",
   "metadata": {},
   "source": [
    "# Difference in Means Analysis on Light-outages and Crime\n",
    "## Garrett Eason, Chris Broll, Shilpa Rajbhandari"
   ]
  },
  {
   "cell_type": "code",
   "execution_count": 1,
   "metadata": {},
   "outputs": [],
   "source": [
    "#%% Packages\n",
    "\n",
    "import pandas as pd\n",
    "import matplotlib.pyplot as plt\n",
    "import numpy as np"
   ]
  },
  {
   "cell_type": "markdown",
   "metadata": {},
   "source": [
    "## Data Cleaning\n",
    "We start by loading our three main data sets, these include: \"Lights.xlsx\" - a data set with all the lightoutages (iSlims + CityWork data), \"geoLights0.xlsx\" - a data set that includes all the light-outages merged with crimes in a 1/4th block radius (1/2 a block diameter) that did not happen in a 20 day (10 days before repair and 10 days after repair) window, and \"geoLights1.xlsx\" - a data set that includes all the light-outages merged with crimes in a 1/4th block radius that did happen in a 20 day window."
   ]
  },
  {
   "cell_type": "code",
   "execution_count": null,
   "metadata": {},
   "outputs": [],
   "source": [
    "#%% Final Data Cleaning\n",
    "Windows = 'C:/Users/Sade/Documents/GitHub/lights-and-crime/Lights and Crime Garrett/Data'\n",
    "Linux = '/home/sade/Desktop/Git Cloned Repos/lights-and-crime/Lights and Crime Garrett/Data'\n",
    "\n",
    "choice = Linux\n",
    "\n",
    "# Setting up geo joined data \n",
    "# geoLights0 is a df of light outages and crimes that did not happen in a 10 day window\n",
    "# geoLights1 is a df of light outages and crimes that happened in a 10 day window\n",
    "Lights = pd.read_excel(choice + '/Lights.xlsx')\n",
    "Lights = Lights[~Lights.duplicated(['WoID'], keep = False)] # Removing Incorrectly valued work orders (1606 observations).  Take note of this because this is still useful information!\n",
    "L_noCR = pd.read_excel(choice + '/geoLights0.xlsx')\n",
    "L_noCR = L_noCR.reset_index()\n",
    "L_noCR = L_noCR.drop(['index', 'level_0', 'index_right'], 1)\n",
    "L_yesCR_dup = pd.read_excel(choice + '/geoLights1.xlsx')\n",
    "L_yesCR_dup = L_yesCR_dup.reset_index()\n",
    "L_yesCR_dup = L_yesCR_dup.drop(['index', 'index_right'], 1)\n",
    "# Be advised there is some small cross over between L_noCR and L_yesCR_dup\n",
    "\n",
    "# Pulling out all the duplicate crimes into a side dataframe\n",
    "L_yesCR_dup_only = L_yesCR_dup[L_yesCR_dup.duplicated(['WoID'], keep = False)]\n",
    "L_yesCR_dup_only = L_yesCR_dup_only.reset_index()\n",
    "L_yesCR_dup_only = L_yesCR_dup_only.drop(['index', 'level_0'], 1)\n",
    "\n",
    "# Making a data set that treats multiple crimes at the same time/ place as one\n",
    "L_yesCR_nodup = L_yesCR_dup[~L_yesCR_dup.duplicated(['WoID'], keep = 'first')]\n",
    "L_yesCR_nodup = L_yesCR_nodup.reset_index()\n",
    "L_yesCR_nodup = L_yesCR_nodup.drop(['index', 'level_0'], 1)\n",
    "#L_temp = L_yesCR_dup[~L_yesCR_dup.duplicated(['WoID'], keep = False)]\n",
    "#L_yesCR_nodup = pd.concat([L_yesCR_dup_1st, L_temp])"
   ]
  },
  {
   "cell_type": "markdown",
   "metadata": {},
   "source": [
    "After loading our data we do one final quick cleaning and manipulate our \"geoLights1.xlsx\" into two new data sets.  For the \"L_yesCR_dup_only\" variable we pull out all the instances of multiple crimes being mapped to "
   ]
  },
  {
   "cell_type": "code",
   "execution_count": null,
   "metadata": {},
   "outputs": [],
   "source": [
    "#%% Merging and setting up final dataset\n",
    "\n",
    "# Pulling out unmatched observations\n",
    "L_0_1 = pd.concat([L_noCR, L_yesCR_nodup]) # With overlap\n",
    "L_temp = L_0_1[L_0_1.duplicated(['WoID'], keep = False)]\n",
    "L_0_1 = L_0_1[~L_0_1.duplicated(['WoID'], keep = False)]\n",
    "L_temp = L_temp[L_temp['Tdelta'] == 1]\n",
    "L_0_1 = pd.concat([L_0_1, L_temp]) # Without overlap\n",
    "\n",
    "# Final dataset\n",
    "L_full = pd.merge(Lights, L_0_1, how = 'left', on = 'WoID')\n",
    "L_full = L_full.drop(['WoEntered_y', 'WoCompleted_y', 'gpsX_left', 'gpsY_left'], axis = 1)\n",
    "L_full = L_full.rename(columns={'gpsX':'gpsX_CR', 'gpsY':'gpsY_CR', 'WoEntered_x':'WoEntered', 'WoCompleted_x':'WoCompleted', 'gpsX_right':'gpsX', 'gpsY_right':'gpsY', 'Tdelta':'Lightout&CR' })\n",
    "L_full['Lightout&CR'][np.isnan] = 0"
   ]
  },
  {
   "cell_type": "code",
   "execution_count": null,
   "metadata": {},
   "outputs": [],
   "source": [
    "#%% Difference in Means Analysis\n",
    "\n",
    "# Splitting the crimes into before and after 10 day categories (note* 1 day buffer to avoid category errors)\n",
    "L_full['CR_Before_Fix'] = 0\n",
    "for i in L_full[L_full['Lightout&CR'] == 1].index:\n",
    "    if (L_full.loc[i, 'WoCompleted'] - L_full.loc[i, 'REPORT_DAT']).days >= 0 and (L_full.loc[i, 'WoCompleted'] - L_full.loc[i, 'REPORT_DAT']).days <= 10:\n",
    "        L_full.loc[i, 'CR_Before_Fix'] = 1\n",
    "L_full['CR_After_Fix'] = 0\n",
    "for i in L_full[L_full['Lightout&CR'] == 1].index:\n",
    "    if (L_full.loc[i, 'WoCompleted'] - L_full.loc[i, 'REPORT_DAT']).days < 0 and (L_full.loc[i, 'WoCompleted'] - L_full.loc[i, 'REPORT_DAT']).days >= -10:\n",
    "        L_full.loc[i, 'CR_After_Fix'] = 1\n",
    "\n",
    "# Raw Sums:\n",
    "sum(L_full['CR_Before_Fix'])\n",
    "sum(L_full['CR_After_Fix'])\n",
    "\n",
    "# Because we will only consider the binary crime(s) took place or not, we can consider the following means as differences in probabilities.\n",
    "# Estimates are based on 10 \"days out\".\n",
    "# Unconditional difference in means: E[u]-E[t]\n",
    "meandif = sum(L_full['CR_Before_Fix'])/len(L_full) - sum(L_full['CR_After_Fix'])/len(L_full)\n",
    "# Difference in Probability: approximately 0.17%\n",
    "\n",
    "# For a Binary Random Variable:\n",
    "# Var(x) = E[x^2] - E[x]^2\n",
    "#        = E[x]   - E[x]^2 remember x = 1 or 0\n",
    "#        = P(x = 1) - P(x = 1)^2\n",
    "#        = P(x = 1)(1 - P(x = 1))\n",
    "VarB = sum(L_full['CR_Before_Fix'])/len(L_full)*(1 - sum(L_full['CR_Before_Fix'])/len(L_full))\n",
    "VarA = sum(L_full['CR_After_Fix'])/len(L_full)*(1 - sum(L_full['CR_After_Fix'])/len(L_full))\n",
    "Sdif = np.sqrt((VarB/len(L_full))+(VarA/len(L_full)))\n",
    "t = meandif/Sdif # t is approximately 3.44\n",
    "# P-value is approximately 0; estimate is statistically significant.\n",
    "# This evidence supports the conculsion that light outages do affect crime generally by a very small margin unconditionally.\n",
    "# Given the magnitude of our esitmate, it is likely that light outages do not effect crime.\n",
    "\n",
    "# Conditional difference in means: E[u\\'Lightout&CR' = 1] - E[t\\'Lightout&CR' = 1]\n",
    "meandif = sum(L_full['CR_Before_Fix'])/sum(L_full['Lightout&CR']) - sum(L_full['CR_After_Fix'])/sum(L_full['Lightout&CR'])\n",
    "# Difference in Probability: approximately 3.5%\n",
    "\n",
    "VarB = sum(L_full['CR_Before_Fix'])/sum(L_full['Lightout&CR'])*(1 - sum(L_full['CR_Before_Fix'])/sum(L_full['Lightout&CR']))\n",
    "VarA = sum(L_full['CR_After_Fix'])/sum(L_full['Lightout&CR'])*(1 - sum(L_full['CR_After_Fix'])/sum(L_full['Lightout&CR']))\n",
    "Sdif = np.sqrt((VarB/sum(L_full['Lightout&CR']))+(VarA/sum(L_full['Lightout&CR'])))\n",
    "t = meandif/Sdif # t is approximately 4.69\n",
    "# P-value is approximately 0; estimate is statistically significant.\n",
    "# This evidence supports the conculsion that if a crime is to occur then it is 3.5 percentage points more likely to occur when the light is out.\n",
    "\n",
    "# Let's take a look at different conditional estimates for different \"days out\".\n",
    "for a in range(1,11):\n",
    "    L_full['CR_Before_Fix'] = 0\n",
    "    for i in L_full[L_full['Lightout&CR'] == 1].index:\n",
    "        if (L_full.loc[i, 'WoCompleted'] - L_full.loc[i, 'REPORT_DAT']).days >= 0 and (L_full.loc[i, 'WoCompleted'] - L_full.loc[i, 'REPORT_DAT']).days <= a:\n",
    "            L_full.loc[i, 'CR_Before_Fix'] = 1\n",
    "    L_full['CR_After_Fix'] = 0\n",
    "    for i in L_full[L_full['Lightout&CR'] == 1].index:\n",
    "        if (L_full.loc[i, 'WoCompleted'] - L_full.loc[i, 'REPORT_DAT']).days < 0 and (L_full.loc[i, 'WoCompleted'] - L_full.loc[i, 'REPORT_DAT']).days >= -a:\n",
    "            L_full.loc[i, 'CR_After_Fix'] = 1\n",
    "    print(sum(L_full['CR_Before_Fix'])/sum(L_full['Lightout&CR']) - sum(L_full['CR_After_Fix'])/sum(L_full['Lightout&CR']))\n",
    "#   Estimates generated by \"days out\"\n",
    "#1  0.04733660317098209\n",
    "#2  0.04494125698642637\n",
    "#3  0.04094901334550016\n",
    "#4  0.046880346754876234\n",
    "#5  0.04608189802669099\n",
    "#6  0.0477928595870879\n",
    "#7  0.04471312877837347\n",
    "#8  0.0392380517851032\n",
    "#9  0.03912398768107678\n",
    "#10 0.03535987224820347\n"
   ]
  },
  {
   "cell_type": "markdown",
   "metadata": {},
   "source": []
  },
  {
   "cell_type": "code",
   "execution_count": null,
   "metadata": {},
   "outputs": [],
   "source": [
    "#%% Interesting plots and other\n",
    "\n",
    "# Interesting Clustering of multiple crimes\n",
    "plt.figure(1)\n",
    "plt.scatter(L_full['gpsX_CR'], L_full['gpsY_CR'])\n",
    "plt.scatter(L_yesCR_dup_only['gpsX_left'], L_yesCR_dup_only['gpsY_left'])\n"
   ]
  }
 ],
 "metadata": {
  "kernelspec": {
   "display_name": "Python 3",
   "language": "python",
   "name": "python3"
  },
  "language_info": {
   "codemirror_mode": {
    "name": "ipython",
    "version": 3
   },
   "file_extension": ".py",
   "mimetype": "text/x-python",
   "name": "python",
   "nbconvert_exporter": "python",
   "pygments_lexer": "ipython3",
   "version": "3.6.5"
  }
 },
 "nbformat": 4,
 "nbformat_minor": 2
}
