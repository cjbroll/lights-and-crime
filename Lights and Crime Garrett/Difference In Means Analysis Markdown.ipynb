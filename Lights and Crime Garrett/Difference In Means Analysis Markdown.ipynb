{
 "cells": [
  {
   "cell_type": "markdown",
   "metadata": {},
   "source": [
    "# Difference in Means Analysis on Light-outages and Crime\n",
    "## Garrett Eason, Chris Broll, Shilpa Rajbhandari\n",
    "*Note* Most cleaning steps have been omitted."
   ]
  },
  {
   "cell_type": "code",
   "execution_count": 32,
   "metadata": {},
   "outputs": [],
   "source": [
    "#%% Packages\n",
    "\n",
    "import pandas as pd\n",
    "import matplotlib.pyplot as plt\n",
    "import numpy as np\n",
    "from collections import Counter\n",
    "\n",
    "#%% Locations\n",
    "Windows = 'C:/Users/Sade/Documents/GitHub/lights-and-crime/Lights and Crime Garrett/Data'\n",
    "Linux = '/home/sade/Desktop/Git Cloned Repos/lights-and-crime/Lights and Crime Garrett/Data'\n",
    "\n",
    "choice = Linux"
   ]
  },
  {
   "cell_type": "markdown",
   "metadata": {},
   "source": [
    "## EDA\n",
    "### Data\n",
    "Crimes - Data set about crimes.\n",
    "Lights - Data set about light outages.\n",
    "iSlims - Older data set containing information regarding public work (including light outages).\n",
    "fc - Data set containing failure codes for iSlims and City Work data."
   ]
  },
  {
   "cell_type": "code",
   "execution_count": 4,
   "metadata": {},
   "outputs": [],
   "source": [
    "#%% EDA Data\n",
    "Crimes = pd.read_excel(choice + '/crimes.xlsx')\n",
    "iSlims = pd.read_excel(choice + '/iSlims_final.xlsx')\n",
    "fc = pd.read_excel(choice + '/islims_failure_codes.xlsx')"
   ]
  },
  {
   "cell_type": "markdown",
   "metadata": {},
   "source": [
    "### EDA iSlims"
   ]
  },
  {
   "cell_type": "code",
   "execution_count": 5,
   "metadata": {},
   "outputs": [
    {
     "data": {
      "text/html": [
       "<div>\n",
       "<style scoped>\n",
       "    .dataframe tbody tr th:only-of-type {\n",
       "        vertical-align: middle;\n",
       "    }\n",
       "\n",
       "    .dataframe tbody tr th {\n",
       "        vertical-align: top;\n",
       "    }\n",
       "\n",
       "    .dataframe thead th {\n",
       "        text-align: right;\n",
       "    }\n",
       "</style>\n",
       "<table border=\"1\" class=\"dataframe\">\n",
       "  <thead>\n",
       "    <tr style=\"text-align: right;\">\n",
       "      <th></th>\n",
       "      <th>daysToComplete</th>\n",
       "      <th>daysLate</th>\n",
       "    </tr>\n",
       "  </thead>\n",
       "  <tbody>\n",
       "    <tr>\n",
       "      <th>count</th>\n",
       "      <td>178337.000000</td>\n",
       "      <td>178337.000000</td>\n",
       "    </tr>\n",
       "    <tr>\n",
       "      <th>mean</th>\n",
       "      <td>2.064552</td>\n",
       "      <td>0.092875</td>\n",
       "    </tr>\n",
       "    <tr>\n",
       "      <th>std</th>\n",
       "      <td>2.366900</td>\n",
       "      <td>0.766011</td>\n",
       "    </tr>\n",
       "    <tr>\n",
       "      <th>min</th>\n",
       "      <td>-1.000000</td>\n",
       "      <td>0.000000</td>\n",
       "    </tr>\n",
       "    <tr>\n",
       "      <th>25%</th>\n",
       "      <td>0.000000</td>\n",
       "      <td>0.000000</td>\n",
       "    </tr>\n",
       "    <tr>\n",
       "      <th>50%</th>\n",
       "      <td>1.000000</td>\n",
       "      <td>0.000000</td>\n",
       "    </tr>\n",
       "    <tr>\n",
       "      <th>75%</th>\n",
       "      <td>3.000000</td>\n",
       "      <td>0.000000</td>\n",
       "    </tr>\n",
       "    <tr>\n",
       "      <th>max</th>\n",
       "      <td>23.000000</td>\n",
       "      <td>17.000000</td>\n",
       "    </tr>\n",
       "  </tbody>\n",
       "</table>\n",
       "</div>"
      ],
      "text/plain": [
       "       daysToComplete       daysLate\n",
       "count   178337.000000  178337.000000\n",
       "mean         2.064552       0.092875\n",
       "std          2.366900       0.766011\n",
       "min         -1.000000       0.000000\n",
       "25%          0.000000       0.000000\n",
       "50%          1.000000       0.000000\n",
       "75%          3.000000       0.000000\n",
       "max         23.000000      17.000000"
      ]
     },
     "execution_count": 5,
     "metadata": {},
     "output_type": "execute_result"
    }
   ],
   "source": [
    "iSlims[['daysToComplete', 'daysLate']].describe()"
   ]
  },
  {
   "cell_type": "markdown",
   "metadata": {},
   "source": [
    "On average it takes 2 days to complete a task and the completion of tasks are rarely late (excluding completion tasks beyond 14 days).\n"
   ]
  },
  {
   "cell_type": "code",
   "execution_count": 7,
   "metadata": {},
   "outputs": [
    {
     "data": {
      "text/plain": [
       "2      173121\n",
       "13       1273\n",
       "433       697\n",
       "430       562\n",
       "196       489\n",
       "Name: ProblemID, dtype: int64"
      ]
     },
     "execution_count": 7,
     "metadata": {},
     "output_type": "execute_result"
    }
   ],
   "source": [
    "iSlims['ProblemID'].value_counts().head(5)"
   ]
  },
  {
   "cell_type": "code",
   "execution_count": 10,
   "metadata": {},
   "outputs": [
    {
     "name": "stdout",
     "output_type": "stream",
     "text": [
      "2 Description: (Light out)\n",
      "13 Description: (No current)\n",
      "196 Description: (Underpass light out)\n",
      "430 Description: (DDOT Refer)\n",
      "433 Description: (No Current to Over Head)\n"
     ]
    }
   ],
   "source": [
    "c = [2, 13, 433, 430, 196]\n",
    "for i in range(len(fc)):\n",
    "    if fc.loc[i,'failcodeID'] in c:\n",
    "        print(str(fc.loc[i,'failcodeID']) + ' Description: ' +fc.loc[i, 'description'])\n"
   ]
  },
  {
   "cell_type": "markdown",
   "metadata": {},
   "source": [
    "The vast majority of observation fail codes are lights going out as can be seen by the top 5 counts of failure codes."
   ]
  },
  {
   "cell_type": "code",
   "execution_count": 12,
   "metadata": {},
   "outputs": [
    {
     "data": {
      "text/plain": [
       "(array([ 46153.,  49868.,  28336.,  16700.,  13428.,   9860.,   7725.,\n",
       "          2182.,   1089.,    668.,    439.,    365.,    319.,    188.,\n",
       "           189.,    183.,    114.,    112.,     91.,     72.,     97.,\n",
       "            65.,     94.]),\n",
       " array([ -1.        ,   0.04347826,   1.08695652,   2.13043478,\n",
       "          3.17391304,   4.2173913 ,   5.26086957,   6.30434783,\n",
       "          7.34782609,   8.39130435,   9.43478261,  10.47826087,\n",
       "         11.52173913,  12.56521739,  13.60869565,  14.65217391,\n",
       "         15.69565217,  16.73913043,  17.7826087 ,  18.82608696,\n",
       "         19.86956522,  20.91304348,  21.95652174,  23.        ]),\n",
       " <a list of 23 Patch objects>)"
      ]
     },
     "execution_count": 12,
     "metadata": {},
     "output_type": "execute_result"
    },
    {
     "data": {
      "image/png": "[encoded data removed]",
      "text/plain": [
       "<Figure size 432x288 with 1 Axes>"
      ]
     },
     "metadata": {},
     "output_type": "display_data"
    }
   ],
   "source": [
    "plt.hist(iSlims['daysToComplete'], bins = 23)\n",
    "# Something to note: A Poisson distribution for count data.  Could do a GLM to predict what contributes to repair time.\n",
    "# Also Interesting jump at 14ish days and predictible drop after 5ish days."
   ]
  },
  {
   "cell_type": "markdown",
   "metadata": {},
   "source": [
    "Histogram of the days it took to complete a work order.  As expected we can see a large drop off after 5 days."
   ]
  },
  {
   "cell_type": "code",
   "execution_count": 13,
   "metadata": {},
   "outputs": [
    {
     "data": {
      "text/plain": [
       "<matplotlib.collections.PathCollection at 0x7f8dab272978>"
      ]
     },
     "execution_count": 13,
     "metadata": {},
     "output_type": "execute_result"
    },
    {
     "data": {
      "image/png": "[encoded data removed]",
      "text/plain": [
       "<Figure size 432x288 with 1 Axes>"
      ]
     },
     "metadata": {},
     "output_type": "display_data"
    }
   ],
   "source": [
    "plt.scatter(iSlims['gpsX'], iSlims['gpsY'])"
   ]
  },
  {
   "cell_type": "markdown",
   "metadata": {},
   "source": [
    "As we can see it looks like the location data is plausible."
   ]
  },
  {
   "cell_type": "markdown",
   "metadata": {},
   "source": [
    "### EDA Crime"
   ]
  },
  {
   "cell_type": "markdown",
   "metadata": {},
   "source": [
    "Taking a look at several variables in the Crimes data set:"
   ]
  },
  {
   "cell_type": "code",
   "execution_count": 17,
   "metadata": {},
   "outputs": [
    {
     "name": "stdout",
     "output_type": "stream",
     "text": [
      "SHIFT: Counter({'EVENING': 120273, 'DAY': 108579, 'MIDNIGHT': 53042})\n",
      "METHOD: Counter({'OTHERS': 256577, 'GUN': 16118, 'KNIFE': 9199})\n",
      "OFFENSE: Counter({'THEFT/OTHER': 102156, 'THEFT F/AUTO': 82599, 'ROBBERY': 27559, 'BURGLARY': 24257, 'MOTOR VEHICLE THEFT': 23669, 'ASSAULT W/DANGEROUS WEAPON': 18311, 'SEX ABUSE': 2186, 'HOMICIDE': 942, 'ARSON': 215})\n"
     ]
    }
   ],
   "source": [
    "Crimes[['SHIFT', 'METHOD', 'OFFENSE']].describe()\n",
    "for i in ['SHIFT', 'METHOD', 'OFFENSE']:\n",
    "    print(i + ':',Counter(Crimes[i]))"
   ]
  },
  {
   "cell_type": "code",
   "execution_count": 18,
   "metadata": {},
   "outputs": [
    {
     "data": {
      "text/plain": [
       "<matplotlib.axes._subplots.AxesSubplot at 0x7f8daae66c88>"
      ]
     },
     "execution_count": 18,
     "metadata": {},
     "output_type": "execute_result"
    },
    {
     "data": {
      "image/png": "[encoded data removed]",
      "text/plain": [
       "<Figure size 432x288 with 1 Axes>"
      ]
     },
     "metadata": {},
     "output_type": "display_data"
    }
   ],
   "source": [
    "Crimes['SHIFT'].value_counts().plot(kind='bar')"
   ]
  },
  {
   "cell_type": "code",
   "execution_count": 20,
   "metadata": {},
   "outputs": [
    {
     "data": {
      "text/plain": [
       "<matplotlib.axes._subplots.AxesSubplot at 0x7f8dab1b66a0>"
      ]
     },
     "execution_count": 20,
     "metadata": {},
     "output_type": "execute_result"
    },
    {
     "data": {
      "image/png": "[encoded data removed]",
      "text/plain": [
       "<Figure size 432x288 with 1 Axes>"
      ]
     },
     "metadata": {},
     "output_type": "display_data"
    }
   ],
   "source": [
    "Crimes['METHOD'].value_counts().plot(kind='bar')"
   ]
  },
  {
   "cell_type": "code",
   "execution_count": 21,
   "metadata": {},
   "outputs": [
    {
     "data": {
      "text/plain": [
       "<matplotlib.axes._subplots.AxesSubplot at 0x7f8dab1f1198>"
      ]
     },
     "execution_count": 21,
     "metadata": {},
     "output_type": "execute_result"
    },
    {
     "data": {
      "image/png": "[encoded data removed]",
      "text/plain": [
       "<Figure size 432x288 with 1 Axes>"
      ]
     },
     "metadata": {},
     "output_type": "display_data"
    }
   ],
   "source": [
    "Crimes['OFFENSE'].value_counts().plot(kind='bar')"
   ]
  },
  {
   "cell_type": "code",
   "execution_count": 22,
   "metadata": {},
   "outputs": [
    {
     "data": {
      "text/plain": [
       "<matplotlib.axes._subplots.AxesSubplot at 0x7f8dab143fd0>"
      ]
     },
     "execution_count": 22,
     "metadata": {},
     "output_type": "execute_result"
    },
    {
     "data": {
      "image/png": "[encoded data removed]",
      "text/plain": [
       "<Figure size 432x288 with 1 Axes>"
      ]
     },
     "metadata": {},
     "output_type": "display_data"
    }
   ],
   "source": [
    "Crimes.plot(kind='scatter',x='X',y='Y')"
   ]
  },
  {
   "cell_type": "markdown",
   "metadata": {},
   "source": [
    "Again the Location data looks plausible."
   ]
  },
  {
   "cell_type": "code",
   "execution_count": 27,
   "metadata": {},
   "outputs": [
    {
     "data": {
      "text/plain": [
       "<matplotlib.collections.PathCollection at 0x7f8daad776a0>"
      ]
     },
     "execution_count": 27,
     "metadata": {},
     "output_type": "execute_result"
    },
    {
     "data": {
      "image/png": "[encoded data removed]",
      "text/plain": [
       "<Figure size 432x288 with 1 Axes>"
      ]
     },
     "metadata": {},
     "output_type": "display_data"
    }
   ],
   "source": [
    "plt.scatter(Crimes['X'], Crimes['Y'])\n",
    "plt.scatter(Crimes[Crimes['OFFENSE'] == 'HOMICIDE']['X'], Crimes[Crimes['OFFENSE'] == 'HOMICIDE']['Y'])"
   ]
  },
  {
   "cell_type": "markdown",
   "metadata": {},
   "source": [
    "Map of Homicides layed over all other criminal activities."
   ]
  },
  {
   "cell_type": "markdown",
   "metadata": {},
   "source": [
    "## Final Data Cleaning\n",
    "We start by loading our three main data sets, these include: \"Lights.xlsx\" - a data set with all the lightoutages (iSlims + CityWork data), \"geoLights0.xlsx\" - a data set that includes all the light-outages merged with crimes in a 1/4th block radius (1/2 a block diameter) that did not happen in a 20 day (10 days before repair and 10 days after repair) window, and \"geoLights1.xlsx\" - a data set that includes all the light-outages merged with crimes in a 1/4th block radius that did happen in a 20 day window.\n",
    "\n",
    "After loading our data we do one final quick cleaning and manipulate our \"geoLights1.xlsx\" into two new data sets. For the \"L_yesCR_dup_only\" data set, we pull out all the instances of multiple crimes being mapped to a single street light outage. For the \"L_yesCR_nodup\" data set, we map all multiple instances\n"
   ]
  },
  {
   "cell_type": "code",
   "execution_count": null,
   "metadata": {},
   "outputs": [],
   "source": [
    "L_Full = pd.read_excel(choice + '/Final_Lights.xlsx')\n",
    "L_yesCR_dup_only.to_excel(choice + '/Rampage.xlsx')"
   ]
  },
  {
   "cell_type": "code",
   "execution_count": null,
   "metadata": {},
   "outputs": [],
   "source": [
    "#%% Difference in Means Analysis\n",
    "\n",
    "# Splitting the crimes into before and after 10 day categories (note* 1 day buffer to avoid category errors)\n",
    "L_full['CR_Before_Fix'] = 0\n",
    "for i in L_full[L_full['Lightout&CR'] == 1].index:\n",
    "    if (L_full.loc[i, 'WoCompleted'] - L_full.loc[i, 'REPORT_DAT']).days >= 0 and (L_full.loc[i, 'WoCompleted'] - L_full.loc[i, 'REPORT_DAT']).days <= 10:\n",
    "        L_full.loc[i, 'CR_Before_Fix'] = 1\n",
    "L_full['CR_After_Fix'] = 0\n",
    "for i in L_full[L_full['Lightout&CR'] == 1].index:\n",
    "    if (L_full.loc[i, 'WoCompleted'] - L_full.loc[i, 'REPORT_DAT']).days < 0 and (L_full.loc[i, 'WoCompleted'] - L_full.loc[i, 'REPORT_DAT']).days >= -10:\n",
    "        L_full.loc[i, 'CR_After_Fix'] = 1\n",
    "\n",
    "# Raw Sums:\n",
    "sum(L_full['CR_Before_Fix'])\n",
    "sum(L_full['CR_After_Fix'])\n",
    "\n",
    "# Because we will only consider the binary crime(s) took place or not, we can consider the following means as differences in probabilities.\n",
    "# Estimates are based on 10 \"days out\".\n",
    "# Unconditional difference in means: E[u]-E[t]\n",
    "meandif = sum(L_full['CR_Before_Fix'])/len(L_full) - sum(L_full['CR_After_Fix'])/len(L_full)\n",
    "# Difference in Probability: approximately 0.17%\n",
    "\n",
    "# For a Binary Random Variable:\n",
    "# Var(x) = E[x^2] - E[x]^2\n",
    "#        = E[x]   - E[x]^2 remember x = 1 or 0\n",
    "#        = P(x = 1) - P(x = 1)^2\n",
    "#        = P(x = 1)(1 - P(x = 1))\n",
    "VarB = sum(L_full['CR_Before_Fix'])/len(L_full)*(1 - sum(L_full['CR_Before_Fix'])/len(L_full))\n",
    "VarA = sum(L_full['CR_After_Fix'])/len(L_full)*(1 - sum(L_full['CR_After_Fix'])/len(L_full))\n",
    "Sdif = np.sqrt((VarB/len(L_full))+(VarA/len(L_full)))\n",
    "t = meandif/Sdif # t is approximately 3.44\n",
    "# P-value is approximately 0; estimate is statistically significant.\n",
    "# This evidence supports the conculsion that light outages do affect crime generally by a very small margin unconditionally.\n",
    "# Given the magnitude of our esitmate, it is likely that light outages do not effect crime.\n",
    "\n",
    "# Conditional difference in means: E[u\\'Lightout&CR' = 1] - E[t\\'Lightout&CR' = 1]\n",
    "meandif = sum(L_full['CR_Before_Fix'])/sum(L_full['Lightout&CR']) - sum(L_full['CR_After_Fix'])/sum(L_full['Lightout&CR'])\n",
    "# Difference in Probability: approximately 3.5%\n",
    "\n",
    "VarB = sum(L_full['CR_Before_Fix'])/sum(L_full['Lightout&CR'])*(1 - sum(L_full['CR_Before_Fix'])/sum(L_full['Lightout&CR']))\n",
    "VarA = sum(L_full['CR_After_Fix'])/sum(L_full['Lightout&CR'])*(1 - sum(L_full['CR_After_Fix'])/sum(L_full['Lightout&CR']))\n",
    "Sdif = np.sqrt((VarB/sum(L_full['Lightout&CR']))+(VarA/sum(L_full['Lightout&CR'])))\n",
    "t = meandif/Sdif # t is approximately 4.69\n",
    "# P-value is approximately 0; estimate is statistically significant.\n",
    "# This evidence supports the conculsion that if a crime is to occur then it is 3.5 percentage points more likely to occur when the light is out.\n"
   ]
  },
  {
   "cell_type": "code",
   "execution_count": null,
   "metadata": {},
   "outputs": [],
   "source": [
    "L_full['CR_Before_Fix'] = 0\n",
    "for i in L_full[L_full['Lightout&CR'] == 1].index:\n",
    "    if (L_full.loc[i, 'WoCompleted'] - L_full.loc[i, 'REPORT_DAT']).days >= 0 and (L_full.loc[i, 'WoCompleted'] - L_full.loc[i, 'REPORT_DAT']).days <= 10:\n",
    "        L_full.loc[i, 'CR_Before_Fix'] = 1\n",
    "L_full['CR_After_Fix'] = 0\n",
    "for i in L_full[L_full['Lightout&CR'] == 1].index:\n",
    "    if (L_full.loc[i, 'WoCompleted'] - L_full.loc[i, 'REPORT_DAT']).days < 0 and (L_full.loc[i, 'WoCompleted'] - L_full.loc[i, 'REPORT_DAT']).days >= -10:\n",
    "        L_full.loc[i, 'CR_After_Fix'] = 1\n",
    "\n",
    "# Raw Sums:\n",
    "sum(L_full['CR_Before_Fix'])\n",
    "sum(L_full['CR_After_Fix'])"
   ]
  },
  {
   "cell_type": "code",
   "execution_count": null,
   "metadata": {},
   "outputs": [],
   "source": [
    "# Unconditional difference in means: E[u]-E[t]\n",
    "meandif = sum(L_full['CR_Before_Fix'])/len(L_full) - sum(L_full['CR_After_Fix'])/len(L_full)\n",
    "#"
   ]
  },
  {
   "cell_type": "code",
   "execution_count": null,
   "metadata": {},
   "outputs": [],
   "source": [
    "#        = P(x = 1)(1 - P(x = 1))\n",
    "VarB = sum(L_full['CR_Before_Fix'])/len(L_full)*(1 - sum(L_full['CR_Before_Fix'])/len(L_full))\n",
    "VarA = sum(L_full['CR_After_Fix'])/len(L_full)*(1 - sum(L_full['CR_After_Fix'])/len(L_full))\n",
    "Sdif = np.sqrt((VarB/len(L_full))+(VarA/len(L_full)))\n",
    "t = meandif/Sdif # t is approximately 3.44\n"
   ]
  },
  {
   "cell_type": "code",
   "execution_count": null,
   "metadata": {},
   "outputs": [],
   "source": [
    "meandif = sum(L_full['CR_Before_Fix'])/sum(L_full['Lightout&CR']) - sum(L_full['CR_After_Fix'])/sum(L_full['Lightout&CR'])\n",
    "meandif"
   ]
  },
  {
   "cell_type": "code",
   "execution_count": null,
   "metadata": {},
   "outputs": [],
   "source": [
    "VarB = sum(L_full['CR_Before_Fix'])/sum(L_full['Lightout&CR'])*(1 - sum(L_full['CR_Before_Fix'])/sum(L_full['Lightout&CR']))\n",
    "VarA = sum(L_full['CR_After_Fix'])/sum(L_full['Lightout&CR'])*(1 - sum(L_full['CR_After_Fix'])/sum(L_full['Lightout&CR']))\n",
    "Sdif = np.sqrt((VarB/sum(L_full['Lightout&CR']))+(VarA/sum(L_full['Lightout&CR'])))\n",
    "t = meandif/Sdif # t is approximately 4.69\n",
    "t"
   ]
  },
  {
   "cell_type": "code",
   "execution_count": null,
   "metadata": {},
   "outputs": [],
   "source": [
    "# Let's take a look at different conditional estimates for different \"days out\".\n",
    "for a in range(1,11):\n",
    "    L_full['CR_Before_Fix'] = 0\n",
    "    for i in L_full[L_full['Lightout&CR'] == 1].index:\n",
    "        if (L_full.loc[i, 'WoCompleted'] - L_full.loc[i, 'REPORT_DAT']).days >= 0 and (L_full.loc[i, 'WoCompleted'] - L_full.loc[i, 'REPORT_DAT']).days <= a:\n",
    "            L_full.loc[i, 'CR_Before_Fix'] = 1\n",
    "    L_full['CR_After_Fix'] = 0\n",
    "    for i in L_full[L_full['Lightout&CR'] == 1].index:\n",
    "        if (L_full.loc[i, 'WoCompleted'] - L_full.loc[i, 'REPORT_DAT']).days < 0 and (L_full.loc[i, 'WoCompleted'] - L_full.loc[i, 'REPORT_DAT']).days >= -a:\n",
    "            L_full.loc[i, 'CR_After_Fix'] = 1\n",
    "    print(sum(L_full['CR_Before_Fix'])/sum(L_full['Lightout&CR']) - sum(L_full['CR_After_Fix'])/sum(L_full['Lightout&CR']))"
   ]
  },
  {
   "cell_type": "code",
   "execution_count": null,
   "metadata": {},
   "outputs": [],
   "source": [
    "#%% Interesting plots and other\n",
    "\n",
    "# Interesting Clustering of multiple crimes\n",
    "plt.figure(1)\n",
    "plt.scatter(L_full['gpsX_CR'], L_full['gpsY_CR'])\n",
    "plt.scatter(L_yesCR_dup_only['gpsX_left'], L_yesCR_dup_only['gpsY_left'])\n"
   ]
  }
 ],
 "metadata": {
  "kernelspec": {
   "display_name": "Python 3",
   "language": "python",
   "name": "python3"
  },
  "language_info": {
   "codemirror_mode": {
    "name": "ipython",
    "version": 3
   },
   "file_extension": ".py",
   "mimetype": "text/x-python",
   "name": "python",
   "nbconvert_exporter": "python",
   "pygments_lexer": "ipython3",
   "version": "3.6.5"
  }
 },
 "nbformat": 4,
 "nbformat_minor": 2
}
