{
 "cells": [
  {
   "cell_type": "markdown",
   "metadata": {},
   "source": [
    "# Crimes and Streetlight repairs"
   ]
  },
  {
   "cell_type": "markdown",
   "metadata": {},
   "source": [
    "## Setup"
   ]
  },
  {
   "cell_type": "code",
   "execution_count": 1,
   "metadata": {
    "collapsed": true
   },
   "outputs": [],
   "source": [
    "# load our packages\n",
    "import pandas as pd\n",
    "pd.set_option('max_columns', 50)\n",
    "\n",
    "import geopandas as gpd\n",
    "import numpy as np\n",
    "\n",
    "% matplotlib  inline\n",
    "\n",
    "import urllib.request\n",
    "import geopandas as gpd\n",
    "import shapely\n",
    "\n",
    "shapely.speedups.enable()\n",
    "\n",
    "from pathlib import Path\n"
   ]
  },
  {
   "cell_type": "markdown",
   "metadata": {},
   "source": [
    "## Loading data\n",
    "We want to load (or convert) all of our geo data to the same coordinate system.\n",
    "[DC uses](https://octo.dc.gov/page/coordinate-system-standards) the Maryland state 1983 datum coordinates, which [has code `EPSG:2804`](http://spatialreference.org/ref/epsg/3559/) and units of meters."
   ]
  },
  {
   "cell_type": "code",
   "execution_count": 2,
   "metadata": {
    "collapsed": true
   },
   "outputs": [],
   "source": [
    "def to_gdf(df, x, y, crs):\n",
    "    return gpd.GeoDataFrame(\n",
    "        df,\n",
    "        crs=crs,\n",
    "        geometry=[shapely.geometry.Point(xy) for xy in zip(df[x], df[y])]\n",
    ")\n",
    "\n",
    "def check_download(source_url, target_file):\n",
    "    if Path(target_file).is_file():\n",
    "        print(f'{target_file} exists; skipping download')\n",
    "    else: \n",
    "        print(f'downloading {target_file} to {target_file}')\n",
    "        urllib.request.urlretrieve(source_url, target_file)  \n",
    "\n",
    "def download_and_parse(source_url, target_file):\n",
    "    check_download(source_url, target_file)\n",
    "    print('reading into geopandas')\n",
    "    return gpd.read_file(target_file)\n",
    "\n",
    "def download_parse_and_concat(soure_url_and_target_files):\n",
    "    return pd.concat(\n",
    "        map(lambda s_and_t: download_and_parse(s_and_t[0], s_and_t[1]), soure_url_and_target_files)\n",
    "    )"
   ]
  },
  {
   "cell_type": "code",
   "execution_count": 3,
   "metadata": {},
   "outputs": [
    {
     "name": "stdout",
     "output_type": "stream",
     "text": [
      "crimes_2018.geojson exists; skipping download\n",
      "reading into geopandas\n",
      "crimes_2017.geojson exists; skipping download\n",
      "reading into geopandas\n",
      "crimes_2016.geojson exists; skipping download\n",
      "reading into geopandas\n"
     ]
    }
   ],
   "source": [
    "# get our crimes data\n",
    "crimes = download_parse_and_concat([\n",
    "    ['https://opendata.arcgis.com/datasets/38ba41dd74354563bce28a359b59324e_0.geojson', 'crimes_2018.geojson'],\n",
    "    [\"https://opendata.arcgis.com/datasets/6af5cb8dc38e4bcbac8168b27ee104aa_38.geojson\", \"crimes_2017.geojson\"],\n",
    "    [\"https://opendata.arcgis.com/datasets/bda20763840448b58f8383bae800a843_26.geojson\", \"crimes_2016.geojson\"],\n",
    "]).assign(\n",
    "    REPORT_DAT=lambda df: pd.to_datetime(df.REPORT_DAT),\n",
    "    START_DATE=lambda df: pd.to_datetime(df.START_DATE),\n",
    "    END_DATE=lambda df: pd.to_datetime(df.END_DATE, errors='coerce'),\n",
    ").to_crs(\n",
    "    {'init': 'epsg:2804'}\n",
    ")\n"
   ]
  },
  {
   "cell_type": "code",
   "execution_count": 4,
   "metadata": {},
   "outputs": [],
   "source": [
    "repairs = to_gdf(\n",
    "    pd.read_excel(\n",
    "        'repairs.xlsx',\n",
    "        thousands=',',\n",
    "        converters={\n",
    "            'Day of Datewoclosed': pd.to_datetime\n",
    "        },\n",
    "        na_values='0'\n",
    "    ).dropna(),\n",
    "    x='Woxcoordinate',\n",
    "    y='Woycoordinate',\n",
    "    crs={\"init\": \"EPSG:2804\"}\n",
    ")\n"
   ]
  },
  {
   "cell_type": "markdown",
   "metadata": {},
   "source": [
    "##  Filtering"
   ]
  },
  {
   "cell_type": "markdown",
   "metadata": {},
   "source": [
    "For each repair of a streetlight, we want to create a count of the crimes that happened a week before it, in the surrounding area, and the count for the crimes after it.\n",
    "\n",
    "First let's join the street data to the crime data, so that there is a row for every crime that happened nearby and a week before the repair:"
   ]
  },
  {
   "cell_type": "code",
   "execution_count": 104,
   "metadata": {},
   "outputs": [],
   "source": [
    "WITHIN_M = 65 # half of city block\n",
    "\n",
    "repairs_circles = repairs.assign(geometry=lambda x: x.geometry.buffer(WITHIN_M))\n",
    "# plot_with_roads(repairs_circles)\n",
    "\n",
    "night_crimes = crimes[(crimes.REPORT_DAT.dt.hour < 6) | (crimes.REPORT_DAT.dt.hour > 19)]"
   ]
  },
  {
   "cell_type": "code",
   "execution_count": 105,
   "metadata": {},
   "outputs": [
    {
     "name": "stdout",
     "output_type": "stream",
     "text": [
      "Warning: CRS does not match!\n"
     ]
    }
   ],
   "source": [
    "repairs_with_crimes = gpd.sjoin(repairs_circles, night_crimes, 'left')"
   ]
  },
  {
   "cell_type": "code",
   "execution_count": 106,
   "metadata": {
    "collapsed": true
   },
   "outputs": [],
   "source": [
    "from dateutil.relativedelta import relativedelta"
   ]
  },
  {
   "cell_type": "code",
   "execution_count": 107,
   "metadata": {
    "collapsed": true
   },
   "outputs": [],
   "source": [
    "TIME_MARGIN = pd.to_timedelta('7 day').view(np.int64)"
   ]
  },
  {
   "cell_type": "code",
   "execution_count": 108,
   "metadata": {},
   "outputs": [
    {
     "name": "stdout",
     "output_type": "stream",
     "text": [
      "time_diff\n",
      "before    376\n",
      "after     331\n",
      "dtype: int64\n",
      "0.119680851064\n"
     ]
    }
   ],
   "source": [
    "repairs_with_crimes = repairs_with_crimes.assign(\n",
    "    time_diff=lambda df: pd.cut(\n",
    "        (df['START_DATE'] - df['Day of Datewoclosed']).view(np.int64),\n",
    "        bins=[-TIME_MARGIN, 0, TIME_MARGIN],\n",
    "        labels=['before', 'after']\n",
    "    )\n",
    ")\n",
    "dif = repairs_with_crimes.groupby(['time_diff']).size()\n",
    "print(dif)\n",
    "print((dif[0]-dif[1])/dif[0])"
   ]
  },
  {
   "cell_type": "markdown",
   "metadata": {},
   "source": [
    "so we see a difference of about 12% within the a 1 week margin. "
   ]
  },
  {
   "cell_type": "code",
   "execution_count": 109,
   "metadata": {},
   "outputs": [
    {
     "name": "stdout",
     "output_type": "stream",
     "text": [
      "0.046511627907\n",
      "0.132075471698\n",
      "0.0890410958904\n",
      "0.151658767773\n",
      "0.109090909091\n",
      "0.114906832298\n",
      "0.119680851064\n",
      "0.0943396226415\n",
      "0.0672268907563\n",
      "0.0772128060264\n",
      "0.041166380789\n",
      "0.0237717908082\n",
      "0.0118694362018\n",
      "0.0138696255201\n"
     ]
    }
   ],
   "source": [
    "for x in range(1,15):\n",
    "    TIME_MARGIN = pd.to_timedelta(str(x)+' day').view(np.int64)\n",
    "    repairs_with_crimes = repairs_with_crimes.assign(\n",
    "        time_diff=lambda df: pd.cut(\n",
    "            (df['START_DATE'] - df['Day of Datewoclosed']).view(np.int64),\n",
    "            bins=[-TIME_MARGIN, 0, TIME_MARGIN],\n",
    "            labels=['before', 'after']\n",
    "        )\n",
    "    )\n",
    "    dif = repairs_with_crimes.groupby(['time_diff']).size()\n",
    "    print((dif[0]-dif[1])/dif[0])"
   ]
  },
  {
   "cell_type": "markdown",
   "metadata": {},
   "source": [
    "And that difference gets smaller over time, which makes sense if lights are not out for very long, and if darker places accrue risk over time. "
   ]
  },
  {
   "cell_type": "code",
   "execution_count": null,
   "metadata": {
    "collapsed": true
   },
   "outputs": [],
   "source": []
  }
 ],
 "metadata": {
  "kernelspec": {
   "display_name": "Python 3",
   "language": "python",
   "name": "python3"
  },
  "language_info": {
   "codemirror_mode": {
    "name": "ipython",
    "version": 3
   },
   "file_extension": ".py",
   "mimetype": "text/x-python",
   "name": "python",
   "nbconvert_exporter": "python",
   "pygments_lexer": "ipython3",
   "version": "3.6.2"
  }
 },
 "nbformat": 4,
 "nbformat_minor": 2
}
