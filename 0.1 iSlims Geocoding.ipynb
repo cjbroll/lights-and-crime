{
 "cells": [
  {
   "cell_type": "markdown",
   "metadata": {},
   "source": [
    "# Transforming the iSLIMS data\n",
    "\n",
    "There are four things that we want to know about each light outage: \n",
    "\n",
    "1. light out range (it might be out longer than this, but from the time of the report to the time of the repair we can be relatively certain it is out, so this is the time we will use) \n",
    "2. repair date (we may want to exclude crimes that occur on this date because we are not sure whether the activity of the contractor or the light itself is the deterrent)\n",
    "3. light on range (mirroring light out range, this will allow us to compare the same number of days \"just after\" the repair)\n",
    "4. light location (we have to know this in order to see if crimes occurred nearby)\n",
    "\n",
    "We should be able to calculate each of these for most of the islims records, discarding records where any essential datum is missing. "
   ]
  },
  {
   "cell_type": "code",
   "execution_count": 1,
   "metadata": {},
   "outputs": [],
   "source": [
    "import numpy as np\n",
    "import pandas as pd\n",
    "import geopandas as gpd\n",
    "% matplotlib inline"
   ]
  },
  {
   "cell_type": "markdown",
   "metadata": {},
   "source": [
    "# determine which failure codes are relevant\n",
    "\n",
    "First, we should discard records about things that are not streetlight outages. Let's see what we have for failure codes. "
   ]
  },
  {
   "cell_type": "code",
   "execution_count": 2,
   "metadata": {},
   "outputs": [
    {
     "data": {
      "text/plain": [
       "Index(['failcodeID', 'description'], dtype='object')"
      ]
     },
     "execution_count": 2,
     "metadata": {},
     "output_type": "execute_result"
    }
   ],
   "source": [
    "fc = pd.read_excel('data/islims_failure_codes.xlsx')\n",
    "fc.columns"
   ]
  },
  {
   "cell_type": "code",
   "execution_count": 3,
   "metadata": {},
   "outputs": [
    {
     "data": {
      "text/html": [
       "<div>\n",
       "<table border=\"1\" class=\"dataframe\">\n",
       "  <thead>\n",
       "    <tr style=\"text-align: right;\">\n",
       "      <th></th>\n",
       "      <th>failcodeID</th>\n",
       "      <th>description</th>\n",
       "    </tr>\n",
       "  </thead>\n",
       "  <tbody>\n",
       "    <tr>\n",
       "      <th>0</th>\n",
       "      <td>2</td>\n",
       "      <td>(Light out)</td>\n",
       "    </tr>\n",
       "    <tr>\n",
       "      <th>1</th>\n",
       "      <td>3</td>\n",
       "      <td>(Light off/on)</td>\n",
       "    </tr>\n",
       "    <tr>\n",
       "      <th>2</th>\n",
       "      <td>4</td>\n",
       "      <td>(Light dim)</td>\n",
       "    </tr>\n",
       "    <tr>\n",
       "      <th>3</th>\n",
       "      <td>5</td>\n",
       "      <td>(Pole leaning)</td>\n",
       "    </tr>\n",
       "    <tr>\n",
       "      <th>4</th>\n",
       "      <td>6</td>\n",
       "      <td>(Base door missing)</td>\n",
       "    </tr>\n",
       "  </tbody>\n",
       "</table>\n",
       "</div>"
      ],
      "text/plain": [
       "   failcodeID          description\n",
       "0           2          (Light out)\n",
       "1           3       (Light off/on)\n",
       "2           4          (Light dim)\n",
       "3           5       (Pole leaning)\n",
       "4           6  (Base door missing)"
      ]
     },
     "execution_count": 3,
     "metadata": {},
     "output_type": "execute_result"
    }
   ],
   "source": [
    "fc.head()"
   ]
  },
  {
   "cell_type": "code",
   "execution_count": 4,
   "metadata": {},
   "outputs": [
    {
     "data": {
      "text/html": [
       "<div>\n",
       "<table border=\"1\" class=\"dataframe\">\n",
       "  <thead>\n",
       "    <tr style=\"text-align: right;\">\n",
       "      <th></th>\n",
       "      <th>failcodeID</th>\n",
       "      <th>description</th>\n",
       "    </tr>\n",
       "  </thead>\n",
       "  <tbody>\n",
       "    <tr>\n",
       "      <th>0</th>\n",
       "      <td>2</td>\n",
       "      <td>(Light out)</td>\n",
       "    </tr>\n",
       "    <tr>\n",
       "      <th>1</th>\n",
       "      <td>3</td>\n",
       "      <td>(Light off/on)</td>\n",
       "    </tr>\n",
       "    <tr>\n",
       "      <th>2</th>\n",
       "      <td>4</td>\n",
       "      <td>(Light dim)</td>\n",
       "    </tr>\n",
       "    <tr>\n",
       "      <th>10</th>\n",
       "      <td>12</td>\n",
       "      <td>(Trim tree from Light)</td>\n",
       "    </tr>\n",
       "    <tr>\n",
       "      <th>16</th>\n",
       "      <td>18</td>\n",
       "      <td>(Convert street light)</td>\n",
       "    </tr>\n",
       "    <tr>\n",
       "      <th>17</th>\n",
       "      <td>19</td>\n",
       "      <td>(Transfer Street Light Equipment)</td>\n",
       "    </tr>\n",
       "    <tr>\n",
       "      <th>23</th>\n",
       "      <td>31</td>\n",
       "      <td>(Relocate Street Light Pole/Equipment)</td>\n",
       "    </tr>\n",
       "    <tr>\n",
       "      <th>40</th>\n",
       "      <td>48</td>\n",
       "      <td>(Remove Street Light Pole/Equipment)</td>\n",
       "    </tr>\n",
       "    <tr>\n",
       "      <th>46</th>\n",
       "      <td>55</td>\n",
       "      <td>(Convert alley light)</td>\n",
       "    </tr>\n",
       "    <tr>\n",
       "      <th>153</th>\n",
       "      <td>194</td>\n",
       "      <td>Navigation Light Out</td>\n",
       "    </tr>\n",
       "    <tr>\n",
       "      <th>154</th>\n",
       "      <td>195</td>\n",
       "      <td>(Overhead guide sign light out)</td>\n",
       "    </tr>\n",
       "    <tr>\n",
       "      <th>155</th>\n",
       "      <td>196</td>\n",
       "      <td>(Underpass light out)</td>\n",
       "    </tr>\n",
       "    <tr>\n",
       "      <th>157</th>\n",
       "      <td>198</td>\n",
       "      <td>Radio Tower Light Out</td>\n",
       "    </tr>\n",
       "    <tr>\n",
       "      <th>160</th>\n",
       "      <td>201</td>\n",
       "      <td>(MPD hot spot light out)</td>\n",
       "    </tr>\n",
       "    <tr>\n",
       "      <th>165</th>\n",
       "      <td>206</td>\n",
       "      <td>(Welcome to Washington sign light out)</td>\n",
       "    </tr>\n",
       "    <tr>\n",
       "      <th>168</th>\n",
       "      <td>209</td>\n",
       "      <td>(Bridge light out)</td>\n",
       "    </tr>\n",
       "    <tr>\n",
       "      <th>169</th>\n",
       "      <td>210</td>\n",
       "      <td>(Bridge light no current)</td>\n",
       "    </tr>\n",
       "    <tr>\n",
       "      <th>170</th>\n",
       "      <td>211</td>\n",
       "      <td>Fender light out</td>\n",
       "    </tr>\n",
       "    <tr>\n",
       "      <th>171</th>\n",
       "      <td>212</td>\n",
       "      <td>Obstruction light out</td>\n",
       "    </tr>\n",
       "    <tr>\n",
       "      <th>261</th>\n",
       "      <td>333</td>\n",
       "      <td>(China Town light out)</td>\n",
       "    </tr>\n",
       "    <tr>\n",
       "      <th>265</th>\n",
       "      <td>337</td>\n",
       "      <td>(Fender light out)</td>\n",
       "    </tr>\n",
       "    <tr>\n",
       "      <th>271</th>\n",
       "      <td>343</td>\n",
       "      <td>Install Street Light Pole/Equipment</td>\n",
       "    </tr>\n",
       "    <tr>\n",
       "      <th>272</th>\n",
       "      <td>344</td>\n",
       "      <td>Light Dim</td>\n",
       "    </tr>\n",
       "    <tr>\n",
       "      <th>273</th>\n",
       "      <td>345</td>\n",
       "      <td>Light on/off</td>\n",
       "    </tr>\n",
       "    <tr>\n",
       "      <th>274</th>\n",
       "      <td>346</td>\n",
       "      <td>Light Out</td>\n",
       "    </tr>\n",
       "    <tr>\n",
       "      <th>278</th>\n",
       "      <td>350</td>\n",
       "      <td>(Navigation light out)</td>\n",
       "    </tr>\n",
       "    <tr>\n",
       "      <th>281</th>\n",
       "      <td>353</td>\n",
       "      <td>(Obstruction light out)</td>\n",
       "    </tr>\n",
       "    <tr>\n",
       "      <th>283</th>\n",
       "      <td>355</td>\n",
       "      <td>Overhead Guide Sign Light Out</td>\n",
       "    </tr>\n",
       "    <tr>\n",
       "      <th>289</th>\n",
       "      <td>361</td>\n",
       "      <td>(Radio tower light out)</td>\n",
       "    </tr>\n",
       "    <tr>\n",
       "      <th>291</th>\n",
       "      <td>363</td>\n",
       "      <td>Under pass light damaged</td>\n",
       "    </tr>\n",
       "    <tr>\n",
       "      <th>292</th>\n",
       "      <td>364</td>\n",
       "      <td>(Underpass light no current)</td>\n",
       "    </tr>\n",
       "    <tr>\n",
       "      <th>294</th>\n",
       "      <td>366</td>\n",
       "      <td>(Underpass light damaged)</td>\n",
       "    </tr>\n",
       "    <tr>\n",
       "      <th>295</th>\n",
       "      <td>367</td>\n",
       "      <td>(Bridge Light Outage)</td>\n",
       "    </tr>\n",
       "    <tr>\n",
       "      <th>296</th>\n",
       "      <td>368</td>\n",
       "      <td>(China Town Light inspection)</td>\n",
       "    </tr>\n",
       "    <tr>\n",
       "      <th>297</th>\n",
       "      <td>369</td>\n",
       "      <td>china Town Light inspection</td>\n",
       "    </tr>\n",
       "    <tr>\n",
       "      <th>298</th>\n",
       "      <td>370</td>\n",
       "      <td>(Respond to damaged underpass light)</td>\n",
       "    </tr>\n",
       "    <tr>\n",
       "      <th>303</th>\n",
       "      <td>375</td>\n",
       "      <td>(Bridge light dim)</td>\n",
       "    </tr>\n",
       "    <tr>\n",
       "      <th>352</th>\n",
       "      <td>424</td>\n",
       "      <td>(Underdeck light out)</td>\n",
       "    </tr>\n",
       "    <tr>\n",
       "      <th>353</th>\n",
       "      <td>425</td>\n",
       "      <td>(Underdeck light out)</td>\n",
       "    </tr>\n",
       "    <tr>\n",
       "      <th>354</th>\n",
       "      <td>426</td>\n",
       "      <td>(Underdeck light out)</td>\n",
       "    </tr>\n",
       "    <tr>\n",
       "      <th>355</th>\n",
       "      <td>427</td>\n",
       "      <td>(Underdeck light no current)</td>\n",
       "    </tr>\n",
       "    <tr>\n",
       "      <th>356</th>\n",
       "      <td>428</td>\n",
       "      <td>Streetlight cut in dirt, sidewalk, street, and...</td>\n",
       "    </tr>\n",
       "    <tr>\n",
       "      <th>366</th>\n",
       "      <td>438</td>\n",
       "      <td>(Light out-Defective Fixture)</td>\n",
       "    </tr>\n",
       "  </tbody>\n",
       "</table>\n",
       "</div>"
      ],
      "text/plain": [
       "     failcodeID                                        description\n",
       "0             2                                        (Light out)\n",
       "1             3                                     (Light off/on)\n",
       "2             4                                        (Light dim)\n",
       "10           12                             (Trim tree from Light)\n",
       "16           18                             (Convert street light)\n",
       "17           19                  (Transfer Street Light Equipment)\n",
       "23           31             (Relocate Street Light Pole/Equipment)\n",
       "40           48               (Remove Street Light Pole/Equipment)\n",
       "46           55                              (Convert alley light)\n",
       "153         194                               Navigation Light Out\n",
       "154         195                    (Overhead guide sign light out)\n",
       "155         196                              (Underpass light out)\n",
       "157         198                              Radio Tower Light Out\n",
       "160         201                           (MPD hot spot light out)\n",
       "165         206             (Welcome to Washington sign light out)\n",
       "168         209                                 (Bridge light out)\n",
       "169         210                          (Bridge light no current)\n",
       "170         211                                   Fender light out\n",
       "171         212                              Obstruction light out\n",
       "261         333                             (China Town light out)\n",
       "265         337                                 (Fender light out)\n",
       "271         343                Install Street Light Pole/Equipment\n",
       "272         344                                          Light Dim\n",
       "273         345                                       Light on/off\n",
       "274         346                                          Light Out\n",
       "278         350                             (Navigation light out)\n",
       "281         353                            (Obstruction light out)\n",
       "283         355                      Overhead Guide Sign Light Out\n",
       "289         361                            (Radio tower light out)\n",
       "291         363                           Under pass light damaged\n",
       "292         364                       (Underpass light no current)\n",
       "294         366                          (Underpass light damaged)\n",
       "295         367                              (Bridge Light Outage)\n",
       "296         368                      (China Town Light inspection)\n",
       "297         369                        china Town Light inspection\n",
       "298         370               (Respond to damaged underpass light)\n",
       "303         375                                 (Bridge light dim)\n",
       "352         424                              (Underdeck light out)\n",
       "353         425                              (Underdeck light out)\n",
       "354         426                              (Underdeck light out)\n",
       "355         427                       (Underdeck light no current)\n",
       "356         428  Streetlight cut in dirt, sidewalk, street, and...\n",
       "366         438                      (Light out-Defective Fixture)"
      ]
     },
     "execution_count": 4,
     "metadata": {},
     "output_type": "execute_result"
    }
   ],
   "source": [
    "mask = fc['description'].str.contains('ight')\n",
    "fc[mask]"
   ]
  },
  {
   "cell_type": "code",
   "execution_count": 5,
   "metadata": {},
   "outputs": [
    {
     "data": {
      "text/html": [
       "<div>\n",
       "<table border=\"1\" class=\"dataframe\">\n",
       "  <thead>\n",
       "    <tr style=\"text-align: right;\">\n",
       "      <th></th>\n",
       "      <th>failcodeID</th>\n",
       "      <th>description</th>\n",
       "    </tr>\n",
       "  </thead>\n",
       "  <tbody>\n",
       "    <tr>\n",
       "      <th>0</th>\n",
       "      <td>2</td>\n",
       "      <td>(Light out)</td>\n",
       "    </tr>\n",
       "    <tr>\n",
       "      <th>155</th>\n",
       "      <td>196</td>\n",
       "      <td>(Underpass light out)</td>\n",
       "    </tr>\n",
       "    <tr>\n",
       "      <th>160</th>\n",
       "      <td>201</td>\n",
       "      <td>(MPD hot spot light out)</td>\n",
       "    </tr>\n",
       "    <tr>\n",
       "      <th>168</th>\n",
       "      <td>209</td>\n",
       "      <td>(Bridge light out)</td>\n",
       "    </tr>\n",
       "  </tbody>\n",
       "</table>\n",
       "</div>"
      ],
      "text/plain": [
       "     failcodeID               description\n",
       "0             2               (Light out)\n",
       "155         196     (Underpass light out)\n",
       "160         201  (MPD hot spot light out)\n",
       "168         209        (Bridge light out)"
      ]
     },
     "execution_count": 5,
     "metadata": {},
     "output_type": "execute_result"
    }
   ],
   "source": [
    "lights_out_fcs = [2, 196, 201, 209] # these seem most likly to be relevant\n",
    "fc[fc['failcodeID'].isin(lights_out_fcs)]"
   ]
  },
  {
   "cell_type": "code",
   "execution_count": 6,
   "metadata": {},
   "outputs": [
    {
     "data": {
      "text/plain": [
       "Index(['woID', 'inventoryID', 'srchAssetID', 'gpscoordinateX',\n",
       "       'gpscoordinateY', 'initialproblemID', 'resolveddatetime', 'entereddate',\n",
       "       'finalresolutionID'],\n",
       "      dtype='object')"
      ]
     },
     "execution_count": 6,
     "metadata": {},
     "output_type": "execute_result"
    }
   ],
   "source": [
    "wo = pd.read_excel('data/islims_workorders.xlsx')\n",
    "wo.columns"
   ]
  },
  {
   "cell_type": "code",
   "execution_count": 7,
   "metadata": {},
   "outputs": [],
   "source": [
    "fc_mask = wo['finalresolutionID'].isin(lights_out_fcs)"
   ]
  },
  {
   "cell_type": "code",
   "execution_count": 8,
   "metadata": {},
   "outputs": [
    {
     "data": {
      "text/plain": [
       "2      254369\n",
       "196      1980\n",
       "209       133\n",
       "201       103\n",
       "Name: finalresolutionID, dtype: int64"
      ]
     },
     "execution_count": 8,
     "metadata": {},
     "output_type": "execute_result"
    }
   ],
   "source": [
    "wo[fc_mask]['finalresolutionID'].value_counts()"
   ]
  },
  {
   "cell_type": "code",
   "execution_count": 9,
   "metadata": {},
   "outputs": [
    {
     "data": {
      "text/html": [
       "<div>\n",
       "<table border=\"1\" class=\"dataframe\">\n",
       "  <thead>\n",
       "    <tr style=\"text-align: right;\">\n",
       "      <th></th>\n",
       "      <th>woID</th>\n",
       "      <th>inventoryID</th>\n",
       "      <th>srchAssetID</th>\n",
       "      <th>gpscoordinateX</th>\n",
       "      <th>gpscoordinateY</th>\n",
       "      <th>initialproblemID</th>\n",
       "      <th>resolveddatetime</th>\n",
       "      <th>entereddate</th>\n",
       "      <th>finalresolutionID</th>\n",
       "    </tr>\n",
       "  </thead>\n",
       "  <tbody>\n",
       "    <tr>\n",
       "      <th>0</th>\n",
       "      <td>65209</td>\n",
       "      <td>4</td>\n",
       "      <td>-???-</td>\n",
       "      <td>NaN</td>\n",
       "      <td>NaN</td>\n",
       "      <td>55</td>\n",
       "      <td>2005-06-20</td>\n",
       "      <td>2005-06-17 00:00:00</td>\n",
       "      <td>55</td>\n",
       "    </tr>\n",
       "    <tr>\n",
       "      <th>1</th>\n",
       "      <td>66089</td>\n",
       "      <td>4</td>\n",
       "      <td>-???-</td>\n",
       "      <td>NaN</td>\n",
       "      <td>NaN</td>\n",
       "      <td>32</td>\n",
       "      <td>2005-08-22</td>\n",
       "      <td>2005-08-16 00:00:00</td>\n",
       "      <td>32</td>\n",
       "    </tr>\n",
       "    <tr>\n",
       "      <th>2</th>\n",
       "      <td>67632</td>\n",
       "      <td>4</td>\n",
       "      <td>-???-</td>\n",
       "      <td>NaN</td>\n",
       "      <td>NaN</td>\n",
       "      <td>55</td>\n",
       "      <td>2005-12-08</td>\n",
       "      <td>2005-12-07 00:00:00</td>\n",
       "      <td>55</td>\n",
       "    </tr>\n",
       "    <tr>\n",
       "      <th>3</th>\n",
       "      <td>68957</td>\n",
       "      <td>4</td>\n",
       "      <td>-???-</td>\n",
       "      <td>NaN</td>\n",
       "      <td>NaN</td>\n",
       "      <td>12</td>\n",
       "      <td>2006-03-22</td>\n",
       "      <td>2006-03-22 07:15:44</td>\n",
       "      <td>190</td>\n",
       "    </tr>\n",
       "    <tr>\n",
       "      <th>4</th>\n",
       "      <td>68958</td>\n",
       "      <td>4</td>\n",
       "      <td>-???-</td>\n",
       "      <td>NaN</td>\n",
       "      <td>NaN</td>\n",
       "      <td>12</td>\n",
       "      <td>2006-03-22</td>\n",
       "      <td>2006-03-22 07:40:33</td>\n",
       "      <td>190</td>\n",
       "    </tr>\n",
       "  </tbody>\n",
       "</table>\n",
       "</div>"
      ],
      "text/plain": [
       "    woID  inventoryID srchAssetID gpscoordinateX gpscoordinateY  \\\n",
       "0  65209            4       -???-            NaN            NaN   \n",
       "1  66089            4       -???-            NaN            NaN   \n",
       "2  67632            4       -???-            NaN            NaN   \n",
       "3  68957            4       -???-            NaN            NaN   \n",
       "4  68958            4       -???-            NaN            NaN   \n",
       "\n",
       "   initialproblemID resolveddatetime         entereddate  finalresolutionID  \n",
       "0                55       2005-06-20 2005-06-17 00:00:00                 55  \n",
       "1                32       2005-08-22 2005-08-16 00:00:00                 32  \n",
       "2                55       2005-12-08 2005-12-07 00:00:00                 55  \n",
       "3                12       2006-03-22 2006-03-22 07:15:44                190  \n",
       "4                12       2006-03-22 2006-03-22 07:40:33                190  "
      ]
     },
     "execution_count": 9,
     "metadata": {},
     "output_type": "execute_result"
    }
   ],
   "source": [
    "wo.head()"
   ]
  },
  {
   "cell_type": "code",
   "execution_count": 10,
   "metadata": {},
   "outputs": [],
   "source": [
    "mask1 = fc_mask\n",
    "mask2 = wo['srchAssetID'] != '-???-'\n",
    "mask3 = (wo['resolveddatetime'] > '2007-12-31') & (wo['resolveddatetime'] < '2017-01-01') \n",
    "mask4 = (wo['entereddate'] > '2007-12-31') & (wo['entereddate'] < '2017-01-01') \n",
    "mask = mask1 & mask2 & mask3 & mask4 "
   ]
  },
  {
   "cell_type": "code",
   "execution_count": 11,
   "metadata": {},
   "outputs": [
    {
     "data": {
      "text/html": [
       "<div>\n",
       "<table border=\"1\" class=\"dataframe\">\n",
       "  <thead>\n",
       "    <tr style=\"text-align: right;\">\n",
       "      <th></th>\n",
       "      <th>woID</th>\n",
       "      <th>inventoryID</th>\n",
       "      <th>srchAssetID</th>\n",
       "      <th>gpscoordinateX</th>\n",
       "      <th>gpscoordinateY</th>\n",
       "      <th>initialproblemID</th>\n",
       "      <th>resolveddatetime</th>\n",
       "      <th>entereddate</th>\n",
       "      <th>finalresolutionID</th>\n",
       "    </tr>\n",
       "  </thead>\n",
       "  <tbody>\n",
       "    <tr>\n",
       "      <th>99319</th>\n",
       "      <td>454444</td>\n",
       "      <td>257440</td>\n",
       "      <td>77775DC</td>\n",
       "      <td>38.8704</td>\n",
       "      <td>-76.9512</td>\n",
       "      <td>2</td>\n",
       "      <td>2008-01-03 16:02:49</td>\n",
       "      <td>2007-12-31 07:24:55</td>\n",
       "      <td>2</td>\n",
       "    </tr>\n",
       "    <tr>\n",
       "      <th>99323</th>\n",
       "      <td>454869</td>\n",
       "      <td>218264</td>\n",
       "      <td>35386DC</td>\n",
       "      <td>38.9225</td>\n",
       "      <td>-77.0945</td>\n",
       "      <td>2</td>\n",
       "      <td>2008-01-05 02:25:00</td>\n",
       "      <td>2007-12-31 11:43:00</td>\n",
       "      <td>2</td>\n",
       "    </tr>\n",
       "    <tr>\n",
       "      <th>99324</th>\n",
       "      <td>454870</td>\n",
       "      <td>233560</td>\n",
       "      <td>4R423</td>\n",
       "      <td>38.9514</td>\n",
       "      <td>-77.022</td>\n",
       "      <td>2</td>\n",
       "      <td>2008-01-02 03:30:17</td>\n",
       "      <td>2007-12-31 18:05:00</td>\n",
       "      <td>2</td>\n",
       "    </tr>\n",
       "    <tr>\n",
       "      <th>99325</th>\n",
       "      <td>454871</td>\n",
       "      <td>224691</td>\n",
       "      <td>4C419DC</td>\n",
       "      <td>38.9877</td>\n",
       "      <td>-77.0333</td>\n",
       "      <td>2</td>\n",
       "      <td>2008-01-02 12:56:12</td>\n",
       "      <td>2007-12-31 07:06:00</td>\n",
       "      <td>2</td>\n",
       "    </tr>\n",
       "    <tr>\n",
       "      <th>99326</th>\n",
       "      <td>454872</td>\n",
       "      <td>257543</td>\n",
       "      <td>77658DC</td>\n",
       "      <td>38.8745</td>\n",
       "      <td>-76.9547</td>\n",
       "      <td>2</td>\n",
       "      <td>2008-01-03 03:51:00</td>\n",
       "      <td>2007-12-31 10:11:00</td>\n",
       "      <td>2</td>\n",
       "    </tr>\n",
       "  </tbody>\n",
       "</table>\n",
       "</div>"
      ],
      "text/plain": [
       "         woID  inventoryID srchAssetID gpscoordinateX gpscoordinateY  \\\n",
       "99319  454444       257440     77775DC        38.8704       -76.9512   \n",
       "99323  454869       218264     35386DC        38.9225       -77.0945   \n",
       "99324  454870       233560       4R423        38.9514        -77.022   \n",
       "99325  454871       224691     4C419DC        38.9877       -77.0333   \n",
       "99326  454872       257543     77658DC        38.8745       -76.9547   \n",
       "\n",
       "       initialproblemID    resolveddatetime         entereddate  \\\n",
       "99319                 2 2008-01-03 16:02:49 2007-12-31 07:24:55   \n",
       "99323                 2 2008-01-05 02:25:00 2007-12-31 11:43:00   \n",
       "99324                 2 2008-01-02 03:30:17 2007-12-31 18:05:00   \n",
       "99325                 2 2008-01-02 12:56:12 2007-12-31 07:06:00   \n",
       "99326                 2 2008-01-03 03:51:00 2007-12-31 10:11:00   \n",
       "\n",
       "       finalresolutionID  \n",
       "99319                  2  \n",
       "99323                  2  \n",
       "99324                  2  \n",
       "99325                  2  \n",
       "99326                  2  "
      ]
     },
     "execution_count": 11,
     "metadata": {},
     "output_type": "execute_result"
    }
   ],
   "source": [
    "wo[mask].head()"
   ]
  },
  {
   "cell_type": "code",
   "execution_count": 12,
   "metadata": {},
   "outputs": [
    {
     "data": {
      "text/plain": [
       "(198949, 168003)"
      ]
     },
     "execution_count": 12,
     "metadata": {},
     "output_type": "execute_result"
    }
   ],
   "source": [
    "len(wo[mask1 & mask3 & mask4]), len(wo[mask])"
   ]
  },
  {
   "cell_type": "markdown",
   "metadata": {},
   "source": [
    "Looks like we are tossing out about 15% of the data bc it doesn't have a an asset id or location. Perhaps someone can rescue some of that data with clever work in the future, but for now let's just stick with the data that has the elements we want available. "
   ]
  },
  {
   "cell_type": "code",
   "execution_count": 13,
   "metadata": {},
   "outputs": [],
   "source": [
    "inv = pd.read_excel('data/islims_inventory.xlsx')"
   ]
  },
  {
   "cell_type": "markdown",
   "metadata": {},
   "source": [
    "# Open Data Work Orders\n",
    "\n",
    "Now we can have a look at the data from the Open Data API.  Ideally, we'll be able to combine them and get a relatively extensive data set. "
   ]
  },
  {
   "cell_type": "code",
   "execution_count": 14,
   "metadata": {},
   "outputs": [],
   "source": [
    "import os.path\n",
    "if os.path.isfile('data/Cityworks_Workorders.geojson'):\n",
    "    odwo = gpd.read_file('data/Cityworks_Workorders.geojson')\n",
    "else:\n",
    "    ! wget https://opendata.arcgis.com/datasets/a1dd480eb86445239c8129056ab05ade_0.geojson -O data/Cityworks_Workorders.geojson \n",
    "    odwo = gpd.read_file('data/Cityworks_Workorders.geojson')"
   ]
  },
  {
   "cell_type": "code",
   "execution_count": 15,
   "metadata": {},
   "outputs": [
    {
     "data": {
      "text/plain": [
       "Index(['OBJECTID', 'WORKORDERID', 'PROJECTID', 'DESCRIPTION', 'STATUS',\n",
       "       'INITIATEDDATE', 'WORKORDERCLOSEDDATE', 'ACTUALSTARTDATE',\n",
       "       'ACTUALFINISHDATE', 'PROJECTNAME', 'PRIORITY', 'SOURCEWORKORDERID',\n",
       "       'CYCLETYPE', 'SCHEDULEDATE', 'WORKORDERCATEGORY', 'UNATTACHED',\n",
       "       'WORKORDERCOST', 'WORKORDERLABORCOST', 'WORKORDERMATERIALCOST',\n",
       "       'WORKORDEREQUIPMENTCOST', 'SUBMITTEDTO', 'SUBMITTEDTODATE',\n",
       "       'WORKCOMPLETEDBY', 'WORKORDERCLOSEDBY', 'ISCANCELED', 'CANCELEDBY',\n",
       "       'CANCELEDDATE', 'ASSETGROUP', 'SUPERVISOR', 'REQUESTEDBY',\n",
       "       'INITIATEDBY', 'ADDRESS', 'FISCALYEAR', 'WARD', 'QUADRANT', 'ZIPCODE',\n",
       "       'ANC', 'SMD', 'NEIGHBORHOODCLUSTERS', 'NEIGHBORHOODNAMES', 'BID', 'AWI',\n",
       "       'EDZ', 'NIF', 'HISTORICDISTRICT', 'ZONING', 'PUD', 'CFAR', 'PSA', 'PD',\n",
       "       'DAYSTOCLOSE', 'UPDATEDATE', 'XCOORD', 'YCOORD', 'ONSEGX', 'ONSEGY',\n",
       "       'LONGITUDE', 'LATITUDE', 'geometry'],\n",
       "      dtype='object')"
      ]
     },
     "execution_count": 15,
     "metadata": {},
     "output_type": "execute_result"
    }
   ],
   "source": [
    "odwo.columns"
   ]
  },
  {
   "cell_type": "code",
   "execution_count": 16,
   "metadata": {},
   "outputs": [],
   "source": [
    "descriptions = pd.Series(odwo['DESCRIPTION'].unique())\n",
    "dmask = descriptions.str.contains('LIGHT')\n",
    "dlist = descriptions[dmask].tolist()"
   ]
  },
  {
   "cell_type": "code",
   "execution_count": 17,
   "metadata": {},
   "outputs": [
    {
     "data": {
      "text/plain": [
       "LIGHT MALFUNCTION                                   5693\n",
       "LIGHTING SURVEY                                      585\n",
       "LIGHT POLE LIGHT OUT                                   9\n",
       "LIGHT POLE DAY BURNER                                  3\n",
       "LIGHT-INFRASTRUCTURE MANHOLE/HANDHOLD INSPECTION       2\n",
       "LIGHT POLE ELEPHANT EARS                               2\n",
       "LIGHT-INFRASTRUCTURE BRIDGE CONTROL                    1\n",
       "LIGHT-INFRASTRUCTURE NAVIGATION LIGHTS                 1\n",
       "LIGHT POLE KNOCK-DOWNS/WIRESDOWN                       1\n",
       "LIGHT-INVESTIGATION                                    1\n",
       "LIGHT-INFRASTRUCTURE MISS UTILITY REQUEST              1\n",
       "LIGHT POLE DIM LIGHT                                   1\n",
       "LIGHT-INFRASTRUCTURE MANHOLE CLEANING                  1\n",
       "LIGHT-LEANING POLE                                     1\n",
       "LIGHT-INFRASTRUCTURE WTW SIGN LIGHT OUT                1\n",
       "LIGHT-LIGHT POLE BRIDGE LIGHTING OUT                   1\n",
       "LIGHT POLE POLE AND BASE ACCESS DOORS                  1\n",
       "LIGHT-LIGHT POLE MISSING POLE                          1\n",
       "LIGHT-INFRASTRUCTURE CHINA TOWN ARCH                   1\n",
       "LIGHT-INFRASTRUCTURE INSTALL                           1\n",
       "LIGHT POLE BRIDGE LIGHTING NO CURRENT                  1\n",
       "LIGHT POLE NO CURRENT                                  1\n",
       "LIGHT-INFRASTRUCTURE WTW SIGN NO CURRENT               1\n",
       "Name: DESCRIPTION, dtype: int64"
      ]
     },
     "execution_count": 17,
     "metadata": {},
     "output_type": "execute_result"
    }
   ],
   "source": [
    "mask = odwo.DESCRIPTION.isin(dlist)\n",
    "odwo[mask].DESCRIPTION.value_counts()"
   ]
  },
  {
   "cell_type": "code",
   "execution_count": 18,
   "metadata": {},
   "outputs": [],
   "source": [
    "mask = odwo.DESCRIPTION.isin(['LIGHT MALFUNCTION', 'LIGHT POLE LIGHT OUT'])"
   ]
  },
  {
   "cell_type": "code",
   "execution_count": 19,
   "metadata": {},
   "outputs": [
    {
     "data": {
      "text/plain": [
       "('2016-03-08T14:29:18', '2017-03-10T11:04:32')"
      ]
     },
     "execution_count": 19,
     "metadata": {},
     "output_type": "execute_result"
    }
   ],
   "source": [
    "odwo[mask]['INITIATEDDATE'].min(), odwo[mask]['INITIATEDDATE'].max()"
   ]
  },
  {
   "cell_type": "code",
   "execution_count": 20,
   "metadata": {},
   "outputs": [
    {
     "data": {
      "text/plain": [
       "<matplotlib.axes._subplots.AxesSubplot at 0x7fef96d36c50>"
      ]
     },
     "execution_count": 20,
     "metadata": {},
     "output_type": "execute_result"
    },
    {
     "data": {
      "image/png": "[encoded data removed]",
      "text/plain": [
       "<Figure size 432x288 with 1 Axes>"
      ]
     },
     "metadata": {},
     "output_type": "display_data"
    }
   ],
   "source": [
    "odwo['count'] = 1\n",
    "odwo['INITIATEDDATE'] = pd.to_datetime(odwo['INITIATEDDATE'])\n",
    "odwo[mask][['INITIATEDDATE','count']].resample('w', on='INITIATEDDATE').sum().plot()"
   ]
  },
  {
   "cell_type": "code",
   "execution_count": 21,
   "metadata": {},
   "outputs": [
    {
     "data": {
      "text/plain": [
       "(Timestamp('2005-06-17 00:00:00'), Timestamp('2016-11-28 09:31:58'))"
      ]
     },
     "execution_count": 21,
     "metadata": {},
     "output_type": "execute_result"
    }
   ],
   "source": [
    "wo.entereddate.min(), wo.entereddate.max()"
   ]
  },
  {
   "cell_type": "code",
   "execution_count": 22,
   "metadata": {},
   "outputs": [],
   "source": [
    "mask4 = wo.resolveddatetime > '2016-01-01'"
   ]
  },
  {
   "cell_type": "code",
   "execution_count": 23,
   "metadata": {},
   "outputs": [
    {
     "data": {
      "text/plain": [
       "<matplotlib.axes._subplots.AxesSubplot at 0x7fef9411a2e8>"
      ]
     },
     "execution_count": 23,
     "metadata": {},
     "output_type": "execute_result"
    },
    {
     "data": {
      "image/png": "[encoded data removed]",
      "text/plain": [
       "<Figure size 432x288 with 1 Axes>"
      ]
     },
     "metadata": {},
     "output_type": "display_data"
    }
   ],
   "source": [
    "wo['count'] = 1\n",
    "wo[mask3 & mask4][['resolveddatetime','count']].resample('w', on='resolveddatetime').sum().plot()"
   ]
  },
  {
   "cell_type": "markdown",
   "metadata": {},
   "source": [
    "This looks good -- one data set picks up where the other leaves off.  Now let's combine them. "
   ]
  },
  {
   "cell_type": "markdown",
   "metadata": {},
   "source": [
    "# Combining the workorder data sets and the inventory data set. \n",
    "\n",
    "The two data sets have different variable names, so before we combine them let's standardize the names.\n",
    "Arbitrarily, I'm going to add the open data portal data to the islims data rather then the other way around. \n",
    "Then I'll assign inventory details wherever they are available. "
   ]
  },
  {
   "cell_type": "code",
   "execution_count": 24,
   "metadata": {},
   "outputs": [
    {
     "data": {
      "text/plain": [
       "Index(['woID', 'inventoryID', 'srchAssetID', 'gpscoordinateX',\n",
       "       'gpscoordinateY', 'initialproblemID', 'resolveddatetime', 'entereddate',\n",
       "       'finalresolutionID', 'count'],\n",
       "      dtype='object')"
      ]
     },
     "execution_count": 24,
     "metadata": {},
     "output_type": "execute_result"
    }
   ],
   "source": [
    "wo.columns"
   ]
  },
  {
   "cell_type": "code",
   "execution_count": 25,
   "metadata": {},
   "outputs": [
    {
     "data": {
      "text/plain": [
       "Index(['OBJECTID', 'WORKORDERID', 'PROJECTID', 'DESCRIPTION', 'STATUS',\n",
       "       'INITIATEDDATE', 'WORKORDERCLOSEDDATE', 'ACTUALSTARTDATE',\n",
       "       'ACTUALFINISHDATE', 'PROJECTNAME', 'PRIORITY', 'SOURCEWORKORDERID',\n",
       "       'CYCLETYPE', 'SCHEDULEDATE', 'WORKORDERCATEGORY', 'UNATTACHED',\n",
       "       'WORKORDERCOST', 'WORKORDERLABORCOST', 'WORKORDERMATERIALCOST',\n",
       "       'WORKORDEREQUIPMENTCOST', 'SUBMITTEDTO', 'SUBMITTEDTODATE',\n",
       "       'WORKCOMPLETEDBY', 'WORKORDERCLOSEDBY', 'ISCANCELED', 'CANCELEDBY',\n",
       "       'CANCELEDDATE', 'ASSETGROUP', 'SUPERVISOR', 'REQUESTEDBY',\n",
       "       'INITIATEDBY', 'ADDRESS', 'FISCALYEAR', 'WARD', 'QUADRANT', 'ZIPCODE',\n",
       "       'ANC', 'SMD', 'NEIGHBORHOODCLUSTERS', 'NEIGHBORHOODNAMES', 'BID', 'AWI',\n",
       "       'EDZ', 'NIF', 'HISTORICDISTRICT', 'ZONING', 'PUD', 'CFAR', 'PSA', 'PD',\n",
       "       'DAYSTOCLOSE', 'UPDATEDATE', 'XCOORD', 'YCOORD', 'ONSEGX', 'ONSEGY',\n",
       "       'LONGITUDE', 'LATITUDE', 'geometry', 'count'],\n",
       "      dtype='object')"
      ]
     },
     "execution_count": 25,
     "metadata": {},
     "output_type": "execute_result"
    }
   ],
   "source": [
    "odwo.columns"
   ]
  },
  {
   "cell_type": "code",
   "execution_count": 26,
   "metadata": {},
   "outputs": [],
   "source": [
    "old_vars = ['WORKORDERID', '', '', 'XCOORD', 'YCOORD', 'ONSEGX', 'ONSEGY', 'LONGITUDE', 'LATITUDE' ]\n",
    "new_vars = ['woID', 'inventoryID', 'srchAssetID', 'gpscoordinateX', 'gpscoordinateY', 'initialproblemID', 'resolveddatetime', 'entereddate', 'finalresolutionID']"
   ]
  },
  {
   "cell_type": "code",
   "execution_count": 27,
   "metadata": {},
   "outputs": [
    {
     "data": {
      "text/html": [
       "<div>\n",
       "<table border=\"1\" class=\"dataframe\">\n",
       "  <thead>\n",
       "    <tr style=\"text-align: right;\">\n",
       "      <th></th>\n",
       "      <th>woID</th>\n",
       "      <th>inventoryID</th>\n",
       "      <th>srchAssetID</th>\n",
       "      <th>gpscoordinateX</th>\n",
       "      <th>gpscoordinateY</th>\n",
       "      <th>initialproblemID</th>\n",
       "      <th>resolveddatetime</th>\n",
       "      <th>entereddate</th>\n",
       "      <th>finalresolutionID</th>\n",
       "      <th>count</th>\n",
       "    </tr>\n",
       "  </thead>\n",
       "  <tbody>\n",
       "    <tr>\n",
       "      <th>0</th>\n",
       "      <td>65209</td>\n",
       "      <td>4</td>\n",
       "      <td>-???-</td>\n",
       "      <td>NaN</td>\n",
       "      <td>NaN</td>\n",
       "      <td>55</td>\n",
       "      <td>2005-06-20</td>\n",
       "      <td>2005-06-17 00:00:00</td>\n",
       "      <td>55</td>\n",
       "      <td>1</td>\n",
       "    </tr>\n",
       "    <tr>\n",
       "      <th>1</th>\n",
       "      <td>66089</td>\n",
       "      <td>4</td>\n",
       "      <td>-???-</td>\n",
       "      <td>NaN</td>\n",
       "      <td>NaN</td>\n",
       "      <td>32</td>\n",
       "      <td>2005-08-22</td>\n",
       "      <td>2005-08-16 00:00:00</td>\n",
       "      <td>32</td>\n",
       "      <td>1</td>\n",
       "    </tr>\n",
       "    <tr>\n",
       "      <th>2</th>\n",
       "      <td>67632</td>\n",
       "      <td>4</td>\n",
       "      <td>-???-</td>\n",
       "      <td>NaN</td>\n",
       "      <td>NaN</td>\n",
       "      <td>55</td>\n",
       "      <td>2005-12-08</td>\n",
       "      <td>2005-12-07 00:00:00</td>\n",
       "      <td>55</td>\n",
       "      <td>1</td>\n",
       "    </tr>\n",
       "    <tr>\n",
       "      <th>3</th>\n",
       "      <td>68957</td>\n",
       "      <td>4</td>\n",
       "      <td>-???-</td>\n",
       "      <td>NaN</td>\n",
       "      <td>NaN</td>\n",
       "      <td>12</td>\n",
       "      <td>2006-03-22</td>\n",
       "      <td>2006-03-22 07:15:44</td>\n",
       "      <td>190</td>\n",
       "      <td>1</td>\n",
       "    </tr>\n",
       "    <tr>\n",
       "      <th>4</th>\n",
       "      <td>68958</td>\n",
       "      <td>4</td>\n",
       "      <td>-???-</td>\n",
       "      <td>NaN</td>\n",
       "      <td>NaN</td>\n",
       "      <td>12</td>\n",
       "      <td>2006-03-22</td>\n",
       "      <td>2006-03-22 07:40:33</td>\n",
       "      <td>190</td>\n",
       "      <td>1</td>\n",
       "    </tr>\n",
       "  </tbody>\n",
       "</table>\n",
       "</div>"
      ],
      "text/plain": [
       "    woID  inventoryID srchAssetID gpscoordinateX gpscoordinateY  \\\n",
       "0  65209            4       -???-            NaN            NaN   \n",
       "1  66089            4       -???-            NaN            NaN   \n",
       "2  67632            4       -???-            NaN            NaN   \n",
       "3  68957            4       -???-            NaN            NaN   \n",
       "4  68958            4       -???-            NaN            NaN   \n",
       "\n",
       "   initialproblemID resolveddatetime         entereddate  finalresolutionID  \\\n",
       "0                55       2005-06-20 2005-06-17 00:00:00                 55   \n",
       "1                32       2005-08-22 2005-08-16 00:00:00                 32   \n",
       "2                55       2005-12-08 2005-12-07 00:00:00                 55   \n",
       "3                12       2006-03-22 2006-03-22 07:15:44                190   \n",
       "4                12       2006-03-22 2006-03-22 07:40:33                190   \n",
       "\n",
       "   count  \n",
       "0      1  \n",
       "1      1  \n",
       "2      1  \n",
       "3      1  \n",
       "4      1  "
      ]
     },
     "execution_count": 27,
     "metadata": {},
     "output_type": "execute_result"
    }
   ],
   "source": [
    "wo.head()"
   ]
  },
  {
   "cell_type": "code",
   "execution_count": 28,
   "metadata": {},
   "outputs": [
    {
     "data": {
      "text/plain": [
       "0    UFA\n",
       "1    UFA\n",
       "2    UFA\n",
       "3    UFA\n",
       "4    UFA\n",
       "Name: ASSETGROUP, dtype: object"
      ]
     },
     "execution_count": 28,
     "metadata": {},
     "output_type": "execute_result"
    }
   ],
   "source": [
    "odwo['ASSETGROUP'].head()"
   ]
  },
  {
   "cell_type": "code",
   "execution_count": 29,
   "metadata": {},
   "outputs": [],
   "source": [
    "# stopping here for now ... but hopefully it's obvious what comes next"
   ]
  },
  {
   "cell_type": "code",
   "execution_count": null,
   "metadata": {},
   "outputs": [],
   "source": []
  }
 ],
 "metadata": {
  "kernelspec": {
   "display_name": "Python 3",
   "language": "python",
   "name": "python3"
  },
  "language_info": {
   "codemirror_mode": {
    "name": "ipython",
    "version": 3
   },
   "file_extension": ".py",
   "mimetype": "text/x-python",
   "name": "python",
   "nbconvert_exporter": "python",
   "pygments_lexer": "ipython3",
   "version": "3.6.5"
  }
 },
 "nbformat": 4,
 "nbformat_minor": 2
}
